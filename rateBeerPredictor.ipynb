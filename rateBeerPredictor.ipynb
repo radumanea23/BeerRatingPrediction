{
 "cells": [
  {
   "cell_type": "code",
   "execution_count": 87,
   "id": "a820d618",
   "metadata": {},
   "outputs": [],
   "source": [
    "import csv\n",
    "import json\n",
    "from matplotlib import pyplot as plt\n",
    "from collections import defaultdict\n",
    "from sklearn import linear_model\n",
    "from sklearn.metrics import confusion_matrix\n",
    "from sklearn.metrics import mean_absolute_error\n",
    "import numpy\n",
    "import random\n",
    "import gzip\n",
    "import math\n",
    "import sklearn\n",
    "import statistics\n",
    "import pandas as pd\n",
    "import string\n",
    "import seaborn as sns\n"
   ]
  },
  {
   "cell_type": "code",
   "execution_count": 1,
   "id": "97f92b23",
   "metadata": {},
   "outputs": [],
   "source": [
    "def parseDataFromFile(fname):\n",
    "  for l in open(fname):\n",
    "    yield eval(l)"
   ]
  },
  {
   "cell_type": "code",
   "execution_count": 156,
   "id": "d8d0a942",
   "metadata": {},
   "outputs": [],
   "source": [
    "d = list(parseDataFromFile(\"ratebeer.json\"))"
   ]
  },
  {
   "cell_type": "code",
   "execution_count": 159,
   "id": "65b26d07",
   "metadata": {},
   "outputs": [
    {
     "data": {
      "text/plain": [
       "200000"
      ]
     },
     "execution_count": 159,
     "metadata": {},
     "output_type": "execute_result"
    }
   ],
   "source": [
    "#get the first 200000 reviews to work with \n",
    "dataset = d[:200000]\n",
    "len(dataset)"
   ]
  },
  {
   "cell_type": "code",
   "execution_count": 160,
   "id": "44b4e4be",
   "metadata": {},
   "outputs": [],
   "source": [
    "#get rid of '/20' for the reviews so they can be manipulated as int\n",
    "for d in dataset:\n",
    "    d['review/overall'] = int(d['review/overall'][:-3])"
   ]
  },
  {
   "cell_type": "code",
   "execution_count": 257,
   "id": "15e03f55",
   "metadata": {},
   "outputs": [],
   "source": [
    "dataTrain = dataset[:160000]\n",
    "dataTest = dataset[-40000:]"
   ]
  },
  {
   "cell_type": "code",
   "execution_count": 21,
   "id": "d8409947",
   "metadata": {},
   "outputs": [],
   "source": [
    "#Get items per user, users per beer, ratingDict, user/item averages \n",
    "\n",
    "usersPerItem = defaultdict(set) # Maps an item to the users who rated it\n",
    "itemsPerUser = defaultdict(set) # Maps a user to the items that they rated\n",
    "itemNames = {}\n",
    "ratingDict = {} # To retrieve a rating for a specific user/item pair\n",
    "for d in dataset:\n",
    "    user,item = d['review/profileName'], d['beer/beerId']\n",
    "    usersPerItem[item].add(user)\n",
    "    itemsPerUser[user].add(item)\n",
    "    ratingDict[(user,item)] = d['review/overall']\n",
    "    itemNames[item] = d['beer/name']"
   ]
  },
  {
   "cell_type": "code",
   "execution_count": 39,
   "id": "c3534c0c",
   "metadata": {},
   "outputs": [],
   "source": [
    "#get user averages, item averages\n",
    "userAverages = {}\n",
    "itemAverages = {}\n",
    "for u in itemsPerUser:\n",
    "    rs = [ratingDict[(u,i)] for i in itemsPerUser[u]]\n",
    "    userAverages[u] = sum(rs) / len(rs) \n",
    "for i in usersPerItem:\n",
    "    rs = [ratingDict[(u,i)] for u in usersPerItem[i]]\n",
    "    itemAverages[i] = sum(rs) / len(rs)\n",
    "\n",
    "#global average (trivial predictor)\n",
    "ratingMean = sum([d['review/overall'] for d in dataset]) / len(dataset)    \n",
    "\n",
    "#get reviews per user, reviews per item\n",
    "reviewsPerUser = defaultdict(list)\n",
    "reviewsPerItem = defaultdict(list)\n",
    "for d in dataset:\n",
    "    user,item = d['review/profileName'], d['beer/beerId']\n",
    "    reviewsPerUser[user].append(d)\n",
    "    reviewsPerItem[item].append(d)\n",
    "    "
   ]
  },
  {
   "cell_type": "code",
   "execution_count": 271,
   "id": "40ebe770",
   "metadata": {},
   "outputs": [],
   "source": [
    "#similarity function\n",
    "def Jaccard(s1, s2):\n",
    "    numer = len(s1.intersection(s2))\n",
    "    denom = len(s1.union(s2))\n",
    "    if denom == 0:\n",
    "        return 0\n",
    "    return numer / denom\n",
    "\n",
    "#returns most similar N items to item i \n",
    "def mostSimilarFast(i, N):\n",
    "    similarities = []\n",
    "    users = usersPerItem[i]\n",
    "    candidateItems = set()\n",
    "    for u in users:\n",
    "        candidateItems = candidateItems.union(itemsPerUser[u])\n",
    "    for i2 in candidateItems:\n",
    "        if i2 == i: continue\n",
    "        sim = Jaccard(users, usersPerItem[i2])\n",
    "        similarities.append((sim,i2))\n",
    "    similarities.sort(reverse=True)\n",
    "    return similarities[:N]\n",
    "\n",
    "#similarity based rating predictor\n",
    "def predictRatingSimilar(user,item):\n",
    "    ratings = []\n",
    "    similarities = []\n",
    "    for d in reviewsPerUser[user]:\n",
    "        i2 = d['beer/beerId']\n",
    "        if i2 == item: continue\n",
    "        ratings.append(d['review/overall'] - itemAverages[i2])\n",
    "        similarities.append(Jaccard(usersPerItem[item],usersPerItem[i2]))\n",
    "    if (sum(similarities) > 0):\n",
    "        weightedRatings = [(x*y) for x,y in zip(ratings,similarities)]\n",
    "        return itemAverages[item] + sum(weightedRatings) / sum(similarities)\n",
    "    else:\n",
    "        # User hasn't rated any similar items\n",
    "        return ratingMean\n",
    "\n",
    "def predictRatingAverage(user,item):\n",
    "    return (userAverages[user] + itemAverages[item])/2\n",
    "    \n",
    "#mean squared error function\n",
    "def MSE(predictions, labels):\n",
    "    differences = [(x-y)**2 for x,y in zip(predictions,labels)]\n",
    "    return sum(differences) / len(differences)"
   ]
  },
  {
   "cell_type": "code",
   "execution_count": 266,
   "id": "fe527d77",
   "metadata": {},
   "outputs": [],
   "source": [
    "#trivial predictor\n",
    "alwaysPredictMean = [ratingMean for d in dataTrain]\n",
    "\n",
    "#average based predictor \n",
    "avgPredictions = [predictRatingAverage(d['review/profileName'], d['beer/beerId']) for d in dataTrain]\n",
    "\n",
    "#similarity based predictor\n",
    "#simPredictions = [predictRatingSimilar(d['review/profileName'], d['beer/beerId']) for d in dataTrain]\n",
    "#correct ratings\n",
    "labels = [d['review/overall'] for d in dataTrain]"
   ]
  },
  {
   "cell_type": "code",
   "execution_count": 267,
   "id": "5d1508de",
   "metadata": {},
   "outputs": [
    {
     "name": "stdout",
     "output_type": "stream",
     "text": [
      "trivialSolution MSE: 8.902283718749056\n",
      "AverageBasedSolution MSE: 4.6514150448553195\n",
      "SimilarityBasedSolution MSE: 4.138836662643502\n"
     ]
    }
   ],
   "source": [
    "trivialSolutionError = MSE(alwaysPredictMean, labels)\n",
    "AverageBasedSolutionError = MSE(avgPredictions,labels)\n",
    "#SimilarityBasedSolutionError = MSE(simPredictions, labels)\n",
    "\n",
    "print('trivialSolution MSE: ' + str(trivialSolutionError) + '\\n' +\n",
    "      'AverageBasedSolution MSE: ' + str(AverageBasedSolutionError) + '\\n' + \n",
    "      'SimilarityBasedSolution MSE: ' + str(SimilarityBasedSolutionError) )"
   ]
  },
  {
   "cell_type": "code",
   "execution_count": null,
   "id": "2add9e7f",
   "metadata": {},
   "outputs": [],
   "source": []
  },
  {
   "cell_type": "markdown",
   "id": "f4dfe6e8",
   "metadata": {},
   "source": [
    "Most popular words"
   ]
  },
  {
   "cell_type": "code",
   "execution_count": 63,
   "id": "2a840fe9",
   "metadata": {},
   "outputs": [],
   "source": [
    "syncategorematic = ['a' , 'and', 'the', 'with', 'of', 'is', 'to', 'in', 'this', 'i', 'it',\n",
    "                    'that', 'of', 'can', 'get', 'me']\n",
    "wordCount = defaultdict(int)\n",
    "punctuation = set(string.punctuation)\n",
    "for d in dataTrain: # Strictly, should just use the *training* data to extract word counts\n",
    "    r = ''.join([c for c in d['review/text'].lower() if not c in punctuation])\n",
    "    for w in r.split():\n",
    "        if w not in syncategorematic:\n",
    "            wordCount[w] += 1\n",
    "\n",
    "counts = [(wordCount[w], w) for w in wordCount]\n",
    "counts.sort()\n",
    "counts.reverse()"
   ]
  },
  {
   "cell_type": "code",
   "execution_count": 86,
   "id": "fd10567e",
   "metadata": {
    "collapsed": true
   },
   "outputs": [
    {
     "data": {
      "image/png": "[encoded data removed]",
      "text/plain": [
       "<Figure size 432x288 with 1 Axes>"
      ]
     },
     "metadata": {},
     "output_type": "display_data"
    }
   ],
   "source": [
    "#plotting 25 most frequent words\n",
    "mostFrequent = counts[:25]\n",
    "mf = pd.DataFrame(mostFrequent)\n",
    "mf = mf.rename(columns = {0:'count', 1:'word'})\n",
    "sns.set_style(\"white\")\n",
    "sns.color_palette(\"viridis\")\n",
    "g3 = sns.barplot(x=mf['count'], y=mf['word'], data = mf)\n",
    "g3.set_title('25 Most Frequent Words')\n",
    "fig = g3.figure\n",
    "fig.savefig('mostfreq.png')"
   ]
  },
  {
   "cell_type": "code",
   "execution_count": 246,
   "id": "fae50e1c",
   "metadata": {},
   "outputs": [],
   "source": [
    "#extrating words that are highly influential on the rating`\n",
    "words = [x[1] for x in counts[:2000]]\n",
    "wordId = dict(zip(words, range(len(words))))\n",
    "wordSet = set(words)"
   ]
  },
  {
   "cell_type": "code",
   "execution_count": 95,
   "id": "ad5035f4",
   "metadata": {},
   "outputs": [],
   "source": [
    "#bag of words feature\n",
    "def bowFeature(datum):\n",
    "    feat = [0]*len(words)\n",
    "    r = ''.join([c for c in datum['review/text'].lower() if not c in punctuation])\n",
    "    for w in r.split():\n",
    "        if w in wordSet and w not in syncategorematic:\n",
    "            feat[wordId[w]] += 1\n",
    "    feat.append(1) #offset\n",
    "    return feat"
   ]
  },
  {
   "cell_type": "code",
   "execution_count": 97,
   "id": "91f9fc16",
   "metadata": {},
   "outputs": [
    {
     "name": "stderr",
     "output_type": "stream",
     "text": [
      "/var/folders/30/f8mvs3gj01q3w9720r4w3_2h0000gn/T/ipykernel_99464/753861316.py:3: FutureWarning: `rcond` parameter will change to the default of machine precision times ``max(M, N)`` where M and N are the input matrix dimensions.\n",
      "To use the future default and silence this warning we advise to pass `rcond=None`, to keep using the old, explicitly pass `rcond=-1`.\n",
      "  theta,residuals,rank,s = numpy.linalg.lstsq(X, y)\n"
     ]
    }
   ],
   "source": [
    "X = [bowFeature(d) for d in dataTrain]\n",
    "y = [d['review/overall'] for d in dataTrain]\n",
    "theta,residuals,rank,s = numpy.linalg.lstsq(X, y)"
   ]
  },
  {
   "cell_type": "code",
   "execution_count": 110,
   "id": "ab764003",
   "metadata": {},
   "outputs": [],
   "source": [
    "wordWeights = list(zip(theta, words + ['offset']))\n",
    "wordWeights.sort()\n",
    "positiveWords = wordWeights[-11:]\n",
    "positiveWords = positiveWords[:10]\n",
    "negativeWords = wordWeights[:10]"
   ]
  },
  {
   "cell_type": "code",
   "execution_count": 113,
   "id": "87507561",
   "metadata": {
    "collapsed": true
   },
   "outputs": [
    {
     "data": {
      "text/plain": [
       "[(0.8683677415095801, 'wonderful'),\n",
       " (0.8720207696200999, 'awesome'),\n",
       " (0.8956612296648663, '750'),\n",
       " (0.9009876444178266, 'outstanding'),\n",
       " (0.9284918081442406, 'incredible'),\n",
       " (0.9771256906856268, 'excellent'),\n",
       " (1.0255599923233547, 'delicious'),\n",
       " (1.0517116954432582, 'loved'),\n",
       " (1.15194215586296, 'favorites'),\n",
       " (1.564605389452252, 'arme'),\n",
       " (-2.7890748084321575, 'nasty'),\n",
       " (-2.686402701672263, 'worst'),\n",
       " (-2.554027431925854, 'awful'),\n",
       " (-2.188352059936839, 'skunky'),\n",
       " (-2.1068494162764226, 'horrible'),\n",
       " (-2.0918410774696365, 'antrunk'),\n",
       " (-1.927951665356829, 'chemical'),\n",
       " (-1.903882995493414, 'terrible'),\n",
       " (-1.8114400238510435, 'infected'),\n",
       " (-1.75237770504889, 'corny')]"
      ]
     },
     "execution_count": 113,
     "metadata": {},
     "output_type": "execute_result"
    }
   ],
   "source": [
    "influential = positiveWords + negativeWords\n",
    "influential"
   ]
  },
  {
   "cell_type": "code",
   "execution_count": 120,
   "id": "b4f67345",
   "metadata": {
    "collapsed": true
   },
   "outputs": [
    {
     "data": {
      "image/png": "[encoded data removed]",
      "text/plain": [
       "<Figure size 432x288 with 1 Axes>"
      ]
     },
     "metadata": {},
     "output_type": "display_data"
    }
   ],
   "source": [
    "#plotting 25 most frequent words\n",
    "\n",
    "infl = pd.DataFrame(influential).sort_values(0)\n",
    "infl = infl.rename(columns = {0:'theta', 1:'word'})\n",
    "infl['colors'] = ['+' if c >= 0 else '-' for c in infl['theta']]\n",
    "sns.set_style(\"white\")\n",
    "sns.color_palette(\"viridis\")\n",
    "g3 = sns.barplot(x='theta', y='word', data = infl, hue = 'colors')\n",
    "g3.set_title('20 Most Influential Words')\n",
    "fig = g3.figure\n",
    "fig.savefig('mostfreq.png')"
   ]
  },
  {
   "cell_type": "code",
   "execution_count": 177,
   "id": "b343c1ea",
   "metadata": {},
   "outputs": [],
   "source": [
    "positive50Words = wordWeights[-501:]\n",
    "positive50Words = positiveWords[:500]\n",
    "negative50Words = wordWeights[:500]\n",
    "top100Words = positive50Words + negative50Words\n",
    "\n",
    "top100wordId = dict(zip(top100Words, range(len(top100Words))))\n",
    "top100wordSet = set(top100Words)"
   ]
  },
  {
   "cell_type": "code",
   "execution_count": 128,
   "id": "44dc5da3",
   "metadata": {},
   "outputs": [],
   "source": [
    "beers = pd.DataFrame(dataset)"
   ]
  },
  {
   "cell_type": "code",
   "execution_count": null,
   "id": "04c7db3e",
   "metadata": {},
   "outputs": [],
   "source": []
  },
  {
   "cell_type": "code",
   "execution_count": 162,
   "id": "ec63897c",
   "metadata": {},
   "outputs": [],
   "source": [
    "#preprocessing ABV and ratings\n",
    "beers.loc[beers[\"beer/ABV\"] == '-', 'beer/ABV'] = 0\n",
    "beers['beer/ABV'] = beers['beer/ABV'].astype(float)\n",
    "abvs_float = beers['beer/ABV'].to_list()\n",
    "for i in range(len(dataset)):\n",
    "    dataset[i]['beer/ABV'] = abvs_float[i]\n",
    "    dataset[i]['review/appearance'] =  float(dataset[i]['review/appearance'][:-2])\n",
    "    dataset[i]['review/aroma'] =  float(dataset[i]['review/aroma'][:-3])\n",
    "    dataset[i]['review/palate'] =  float(dataset[i]['review/palate'][:-2])\n",
    "    dataset[i]['review/taste'] =  float(dataset[i]['review/taste'][:-3])\n",
    "\n",
    "\n"
   ]
  },
  {
   "cell_type": "code",
   "execution_count": 295,
   "id": "c1622b73",
   "metadata": {},
   "outputs": [],
   "source": [
    "#feature vector to include bow, ABV, user avg, beer avg, beer qualities \n",
    "def feature(datum):\n",
    "    feat = [0]*len(words)\n",
    "    r = ''.join([c for c in datum['review/text'].lower() if not c in punctuation])\n",
    "    for w in r.split():\n",
    "        if w in words:\n",
    "            feat[wordId[w]] += 1\n",
    "    feat.append(1) #offset\n",
    "    beer = datum['beer/beerId']\n",
    "    user = datum['review/profileName']\n",
    "    feat.append(userAverages[user])\n",
    "    feat.append(itemAverages[beer])\n",
    "    feat.append(datum['beer/ABV'])\n",
    "    feat.append(datum['review/appearance'])\n",
    "    feat.append(datum['review/aroma'])\n",
    "    feat.append(datum['review/palate'])\n",
    "    feat.append(datum['review/taste'])\n",
    "    #ms = mostSimilarFast(beer,3)\n",
    "    #considering most 10 similar beers avg \n",
    "    #for i in ms:\n",
    "    #    if i[0] > 0.3:\n",
    "    #        feat.append(itemAverages[i[1]])\n",
    "    \n",
    "    return feat"
   ]
  },
  {
   "cell_type": "code",
   "execution_count": null,
   "id": "142aa360",
   "metadata": {},
   "outputs": [],
   "source": []
  },
  {
   "cell_type": "code",
   "execution_count": 296,
   "id": "81ecd0e4",
   "metadata": {},
   "outputs": [],
   "source": [
    "Xtrain = [feature(d) for d in dataTrain]\n",
    "ytrain = [d['review/overall'] for d in dataTrain]\n",
    "Xtest = [feature(d) for d in dataTest]\n",
    "ytest = [d['review/overall'] for d in dataTest]"
   ]
  },
  {
   "cell_type": "code",
   "execution_count": 297,
   "id": "3de7b7b0",
   "metadata": {},
   "outputs": [
    {
     "name": "stderr",
     "output_type": "stream",
     "text": [
      "/Users/tylerhouchin/miniconda3/lib/python3.9/site-packages/sklearn/linear_model/_logistic.py:444: ConvergenceWarning: lbfgs failed to converge (status=1):\n",
      "STOP: TOTAL NO. of ITERATIONS REACHED LIMIT.\n",
      "\n",
      "Increase the number of iterations (max_iter) or scale the data as shown in:\n",
      "    https://scikit-learn.org/stable/modules/preprocessing.html\n",
      "Please also refer to the documentation for alternative solver options:\n",
      "    https://scikit-learn.org/stable/modules/linear_model.html#logistic-regression\n",
      "  n_iter_i = _check_optimize_result(\n"
     ]
    },
    {
     "data": {
      "text/html": [
       "<style>#sk-container-id-11 {color: black;background-color: white;}#sk-container-id-11 pre{padding: 0;}#sk-container-id-11 div.sk-toggleable {background-color: white;}#sk-container-id-11 label.sk-toggleable__label {cursor: pointer;display: block;width: 100%;margin-bottom: 0;padding: 0.3em;box-sizing: border-box;text-align: center;}#sk-container-id-11 label.sk-toggleable__label-arrow:before {content: \"▸\";float: left;margin-right: 0.25em;color: #696969;}#sk-container-id-11 label.sk-toggleable__label-arrow:hover:before {color: black;}#sk-container-id-11 div.sk-estimator:hover label.sk-toggleable__label-arrow:before {color: black;}#sk-container-id-11 div.sk-toggleable__content {max-height: 0;max-width: 0;overflow: hidden;text-align: left;background-color: #f0f8ff;}#sk-container-id-11 div.sk-toggleable__content pre {margin: 0.2em;color: black;border-radius: 0.25em;background-color: #f0f8ff;}#sk-container-id-11 input.sk-toggleable__control:checked~div.sk-toggleable__content {max-height: 200px;max-width: 100%;overflow: auto;}#sk-container-id-11 input.sk-toggleable__control:checked~label.sk-toggleable__label-arrow:before {content: \"▾\";}#sk-container-id-11 div.sk-estimator input.sk-toggleable__control:checked~label.sk-toggleable__label {background-color: #d4ebff;}#sk-container-id-11 div.sk-label input.sk-toggleable__control:checked~label.sk-toggleable__label {background-color: #d4ebff;}#sk-container-id-11 input.sk-hidden--visually {border: 0;clip: rect(1px 1px 1px 1px);clip: rect(1px, 1px, 1px, 1px);height: 1px;margin: -1px;overflow: hidden;padding: 0;position: absolute;width: 1px;}#sk-container-id-11 div.sk-estimator {font-family: monospace;background-color: #f0f8ff;border: 1px dotted black;border-radius: 0.25em;box-sizing: border-box;margin-bottom: 0.5em;}#sk-container-id-11 div.sk-estimator:hover {background-color: #d4ebff;}#sk-container-id-11 div.sk-parallel-item::after {content: \"\";width: 100%;border-bottom: 1px solid gray;flex-grow: 1;}#sk-container-id-11 div.sk-label:hover label.sk-toggleable__label {background-color: #d4ebff;}#sk-container-id-11 div.sk-serial::before {content: \"\";position: absolute;border-left: 1px solid gray;box-sizing: border-box;top: 0;bottom: 0;left: 50%;z-index: 0;}#sk-container-id-11 div.sk-serial {display: flex;flex-direction: column;align-items: center;background-color: white;padding-right: 0.2em;padding-left: 0.2em;position: relative;}#sk-container-id-11 div.sk-item {position: relative;z-index: 1;}#sk-container-id-11 div.sk-parallel {display: flex;align-items: stretch;justify-content: center;background-color: white;position: relative;}#sk-container-id-11 div.sk-item::before, #sk-container-id-11 div.sk-parallel-item::before {content: \"\";position: absolute;border-left: 1px solid gray;box-sizing: border-box;top: 0;bottom: 0;left: 50%;z-index: -1;}#sk-container-id-11 div.sk-parallel-item {display: flex;flex-direction: column;z-index: 1;position: relative;background-color: white;}#sk-container-id-11 div.sk-parallel-item:first-child::after {align-self: flex-end;width: 50%;}#sk-container-id-11 div.sk-parallel-item:last-child::after {align-self: flex-start;width: 50%;}#sk-container-id-11 div.sk-parallel-item:only-child::after {width: 0;}#sk-container-id-11 div.sk-dashed-wrapped {border: 1px dashed gray;margin: 0 0.4em 0.5em 0.4em;box-sizing: border-box;padding-bottom: 0.4em;background-color: white;}#sk-container-id-11 div.sk-label label {font-family: monospace;font-weight: bold;display: inline-block;line-height: 1.2em;}#sk-container-id-11 div.sk-label-container {text-align: center;}#sk-container-id-11 div.sk-container {/* jupyter's `normalize.less` sets `[hidden] { display: none; }` but bootstrap.min.css set `[hidden] { display: none !important; }` so we also need the `!important` here to be able to override the default hidden behavior on the sphinx rendered scikit-learn.org. See: https://github.com/scikit-learn/scikit-learn/issues/21755 */display: inline-block !important;position: relative;}#sk-container-id-11 div.sk-text-repr-fallback {display: none;}</style><div id=\"sk-container-id-11\" class=\"sk-top-container\"><div class=\"sk-text-repr-fallback\"><pre>LogisticRegression()</pre><b>In a Jupyter environment, please rerun this cell to show the HTML representation or trust the notebook. <br />On GitHub, the HTML representation is unable to render, please try loading this page with nbviewer.org.</b></div><div class=\"sk-container\" hidden><div class=\"sk-item\"><div class=\"sk-estimator sk-toggleable\"><input class=\"sk-toggleable__control sk-hidden--visually\" id=\"sk-estimator-id-11\" type=\"checkbox\" checked><label for=\"sk-estimator-id-11\" class=\"sk-toggleable__label sk-toggleable__label-arrow\">LogisticRegression</label><div class=\"sk-toggleable__content\"><pre>LogisticRegression()</pre></div></div></div></div></div>"
      ],
      "text/plain": [
       "LogisticRegression()"
      ]
     },
     "execution_count": 297,
     "metadata": {},
     "output_type": "execute_result"
    }
   ],
   "source": [
    "model = sklearn.linear_model.LogisticRegression()\n",
    "model.fit(Xtrain,ytrain)"
   ]
  },
  {
   "cell_type": "code",
   "execution_count": 298,
   "id": "dcfb20d7",
   "metadata": {},
   "outputs": [],
   "source": [
    "pred = model.predict(Xtest)"
   ]
  },
  {
   "cell_type": "code",
   "execution_count": 299,
   "id": "372f9dfb",
   "metadata": {},
   "outputs": [
    {
     "name": "stdout",
     "output_type": "stream",
     "text": [
      "3.321925\n"
     ]
    }
   ],
   "source": [
    "print(MSE(pred,ytest))"
   ]
  },
  {
   "cell_type": "code",
   "execution_count": null,
   "id": "5cec8b13",
   "metadata": {},
   "outputs": [],
   "source": []
  }
 ],
 "metadata": {
  "kernelspec": {
   "display_name": "Python 3 (ipykernel)",
   "language": "python",
   "name": "python3"
  },
  "language_info": {
   "codemirror_mode": {
    "name": "ipython",
    "version": 3
   },
   "file_extension": ".py",
   "mimetype": "text/x-python",
   "name": "python",
   "nbconvert_exporter": "python",
   "pygments_lexer": "ipython3",
   "version": "3.9.7"
  }
 },
 "nbformat": 4,
 "nbformat_minor": 5
}
