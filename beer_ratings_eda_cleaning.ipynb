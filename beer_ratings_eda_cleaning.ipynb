{
 "cells": [
  {
   "cell_type": "code",
   "execution_count": 1,
   "metadata": {},
   "outputs": [],
   "source": [
    "import csv\n",
    "import dateutil.parser # for parsing plain-text dates\n",
    "import gzip\n",
    "import json\n",
    "import math\n",
    "import matplotlib.pyplot as plt\n",
    "import numpy\n",
    "import sklearn\n",
    "from collections import defaultdict\n",
    "from sklearn import linear_model"
   ]
  },
  {
   "cell_type": "code",
   "execution_count": 2,
   "metadata": {},
   "outputs": [],
   "source": [
    "path = \"ratebeer.json.gz\"\n",
    "def parse(path):\n",
    "    g = gzip.open(path, 'r')\n",
    "    for l in g:\n",
    "        yield eval(l)\n",
    "        \n",
    "data = list(parse(path))"
   ]
  },
  {
   "cell_type": "code",
   "execution_count": 3,
   "metadata": {},
   "outputs": [],
   "source": [
    "import pandas as pd"
   ]
  },
  {
   "cell_type": "code",
   "execution_count": 9,
   "metadata": {},
   "outputs": [],
   "source": [
    "import numpy as np"
   ]
  },
  {
   "cell_type": "markdown",
   "metadata": {},
   "source": [
    "# EDA and Cleaning"
   ]
  },
  {
   "cell_type": "code",
   "execution_count": 57,
   "metadata": {},
   "outputs": [],
   "source": [
    "df = pd.DataFrame()\n",
    "for i in range(0, len(data[0:1000])):\n",
    "    review = pd.DataFrame(data[i], index=[i])\n",
    "    df = pd.concat([df, review], axis=0)\n",
    "    "
   ]
  },
  {
   "cell_type": "code",
   "execution_count": 179,
   "metadata": {},
   "outputs": [
    {
     "data": {
      "text/html": [
       "<div>\n",
       "<style scoped>\n",
       "    .dataframe tbody tr th:only-of-type {\n",
       "        vertical-align: middle;\n",
       "    }\n",
       "\n",
       "    .dataframe tbody tr th {\n",
       "        vertical-align: top;\n",
       "    }\n",
       "\n",
       "    .dataframe thead th {\n",
       "        text-align: right;\n",
       "    }\n",
       "</style>\n",
       "<table border=\"1\" class=\"dataframe\">\n",
       "  <thead>\n",
       "    <tr style=\"text-align: right;\">\n",
       "      <th></th>\n",
       "      <th>beer/name</th>\n",
       "      <th>beer/beerId</th>\n",
       "      <th>beer/brewerId</th>\n",
       "      <th>beer/ABV</th>\n",
       "      <th>beer/style</th>\n",
       "      <th>review/appearance</th>\n",
       "      <th>review/aroma</th>\n",
       "      <th>review/palate</th>\n",
       "      <th>review/taste</th>\n",
       "      <th>review/overall</th>\n",
       "      <th>review/time</th>\n",
       "      <th>review/profileName</th>\n",
       "      <th>review/text</th>\n",
       "    </tr>\n",
       "  </thead>\n",
       "  <tbody>\n",
       "    <tr>\n",
       "      <th>0</th>\n",
       "      <td>John Harvards Simcoe IPA</td>\n",
       "      <td>63836</td>\n",
       "      <td>8481</td>\n",
       "      <td>5.4</td>\n",
       "      <td>India Pale Ale &amp;#40;IPA&amp;#41;</td>\n",
       "      <td>4/5</td>\n",
       "      <td>6/10</td>\n",
       "      <td>3/5</td>\n",
       "      <td>6/10</td>\n",
       "      <td>13</td>\n",
       "      <td>1157587200</td>\n",
       "      <td>hopdog</td>\n",
       "      <td>On tap at the Springfield, PA location. Poured...</td>\n",
       "    </tr>\n",
       "    <tr>\n",
       "      <th>1</th>\n",
       "      <td>John Harvards Simcoe IPA</td>\n",
       "      <td>63836</td>\n",
       "      <td>8481</td>\n",
       "      <td>5.4</td>\n",
       "      <td>India Pale Ale &amp;#40;IPA&amp;#41;</td>\n",
       "      <td>4/5</td>\n",
       "      <td>6/10</td>\n",
       "      <td>4/5</td>\n",
       "      <td>7/10</td>\n",
       "      <td>13</td>\n",
       "      <td>1157241600</td>\n",
       "      <td>TomDecapolis</td>\n",
       "      <td>On tap at the John Harvards in Springfield PA....</td>\n",
       "    </tr>\n",
       "    <tr>\n",
       "      <th>2</th>\n",
       "      <td>John Harvards Cristal Pilsner</td>\n",
       "      <td>71716</td>\n",
       "      <td>8481</td>\n",
       "      <td>5.0</td>\n",
       "      <td>Bohemian Pilsener</td>\n",
       "      <td>4/5</td>\n",
       "      <td>5/10</td>\n",
       "      <td>3/5</td>\n",
       "      <td>6/10</td>\n",
       "      <td>14</td>\n",
       "      <td>958694400</td>\n",
       "      <td>PhillyBeer2112</td>\n",
       "      <td>UPDATED: FEB 19, 2003 Springfield, PA. I've ne...</td>\n",
       "    </tr>\n",
       "    <tr>\n",
       "      <th>3</th>\n",
       "      <td>John Harvards Fancy Lawnmower Beer</td>\n",
       "      <td>64125</td>\n",
       "      <td>8481</td>\n",
       "      <td>5.4</td>\n",
       "      <td>Klsch</td>\n",
       "      <td>2/5</td>\n",
       "      <td>4/10</td>\n",
       "      <td>2/5</td>\n",
       "      <td>4/10</td>\n",
       "      <td>8</td>\n",
       "      <td>1157587200</td>\n",
       "      <td>TomDecapolis</td>\n",
       "      <td>On tap the Springfield PA location billed as t...</td>\n",
       "    </tr>\n",
       "    <tr>\n",
       "      <th>4</th>\n",
       "      <td>John Harvards Fancy Lawnmower Beer</td>\n",
       "      <td>64125</td>\n",
       "      <td>8481</td>\n",
       "      <td>5.4</td>\n",
       "      <td>Klsch</td>\n",
       "      <td>2/5</td>\n",
       "      <td>4/10</td>\n",
       "      <td>2/5</td>\n",
       "      <td>4/10</td>\n",
       "      <td>8</td>\n",
       "      <td>1157587200</td>\n",
       "      <td>hopdog</td>\n",
       "      <td>On tap at the Springfield, PA location. Poured...</td>\n",
       "    </tr>\n",
       "    <tr>\n",
       "      <th>...</th>\n",
       "      <td>...</td>\n",
       "      <td>...</td>\n",
       "      <td>...</td>\n",
       "      <td>...</td>\n",
       "      <td>...</td>\n",
       "      <td>...</td>\n",
       "      <td>...</td>\n",
       "      <td>...</td>\n",
       "      <td>...</td>\n",
       "      <td>...</td>\n",
       "      <td>...</td>\n",
       "      <td>...</td>\n",
       "      <td>...</td>\n",
       "    </tr>\n",
       "    <tr>\n",
       "      <th>199995</th>\n",
       "      <td>Heartland Farmer Jons Oatmeal Stout</td>\n",
       "      <td>7717</td>\n",
       "      <td>6516</td>\n",
       "      <td>6.0</td>\n",
       "      <td>Sweet Stout</td>\n",
       "      <td>4/5</td>\n",
       "      <td>7/10</td>\n",
       "      <td>4/5</td>\n",
       "      <td>7/10</td>\n",
       "      <td>13</td>\n",
       "      <td>1122249600</td>\n",
       "      <td>Jonathan3584</td>\n",
       "      <td>Black pour with a good tan head.  Aroma is hea...</td>\n",
       "    </tr>\n",
       "    <tr>\n",
       "      <th>199996</th>\n",
       "      <td>Heartland Farmer Jons Oatmeal Stout</td>\n",
       "      <td>7717</td>\n",
       "      <td>6516</td>\n",
       "      <td>6.0</td>\n",
       "      <td>Sweet Stout</td>\n",
       "      <td>4/5</td>\n",
       "      <td>6/10</td>\n",
       "      <td>3/5</td>\n",
       "      <td>6/10</td>\n",
       "      <td>13</td>\n",
       "      <td>1117843200</td>\n",
       "      <td>21iceman40</td>\n",
       "      <td>so i see this won an award or somethin. well i...</td>\n",
       "    </tr>\n",
       "    <tr>\n",
       "      <th>199997</th>\n",
       "      <td>Heartland Farmer Jons Oatmeal Stout</td>\n",
       "      <td>7717</td>\n",
       "      <td>6516</td>\n",
       "      <td>6.0</td>\n",
       "      <td>Sweet Stout</td>\n",
       "      <td>4/5</td>\n",
       "      <td>5/10</td>\n",
       "      <td>4/5</td>\n",
       "      <td>8/10</td>\n",
       "      <td>16</td>\n",
       "      <td>1117670400</td>\n",
       "      <td>Stew41</td>\n",
       "      <td>These guys ship out some pretty good beer and ...</td>\n",
       "    </tr>\n",
       "    <tr>\n",
       "      <th>199998</th>\n",
       "      <td>Heartland Farmer Jons Oatmeal Stout</td>\n",
       "      <td>7717</td>\n",
       "      <td>6516</td>\n",
       "      <td>6.0</td>\n",
       "      <td>Sweet Stout</td>\n",
       "      <td>5/5</td>\n",
       "      <td>9/10</td>\n",
       "      <td>5/5</td>\n",
       "      <td>10/10</td>\n",
       "      <td>18</td>\n",
       "      <td>1117324800</td>\n",
       "      <td>GirlyBeer</td>\n",
       "      <td>I had this at Hearland Brewery in NYC.  Great ...</td>\n",
       "    </tr>\n",
       "    <tr>\n",
       "      <th>199999</th>\n",
       "      <td>Heartland Farmer Jons Oatmeal Stout</td>\n",
       "      <td>7717</td>\n",
       "      <td>6516</td>\n",
       "      <td>6.0</td>\n",
       "      <td>Sweet Stout</td>\n",
       "      <td>4/5</td>\n",
       "      <td>8/10</td>\n",
       "      <td>4/5</td>\n",
       "      <td>8/10</td>\n",
       "      <td>17</td>\n",
       "      <td>1117324800</td>\n",
       "      <td>burgerlicious</td>\n",
       "      <td>a very nice stout.  the chocolate undertones w...</td>\n",
       "    </tr>\n",
       "  </tbody>\n",
       "</table>\n",
       "<p>200000 rows × 13 columns</p>\n",
       "</div>"
      ],
      "text/plain": [
       "                                  beer/name beer/beerId beer/brewerId  \\\n",
       "0                  John Harvards Simcoe IPA       63836          8481   \n",
       "1                  John Harvards Simcoe IPA       63836          8481   \n",
       "2             John Harvards Cristal Pilsner       71716          8481   \n",
       "3        John Harvards Fancy Lawnmower Beer       64125          8481   \n",
       "4        John Harvards Fancy Lawnmower Beer       64125          8481   \n",
       "...                                     ...         ...           ...   \n",
       "199995  Heartland Farmer Jons Oatmeal Stout        7717          6516   \n",
       "199996  Heartland Farmer Jons Oatmeal Stout        7717          6516   \n",
       "199997  Heartland Farmer Jons Oatmeal Stout        7717          6516   \n",
       "199998  Heartland Farmer Jons Oatmeal Stout        7717          6516   \n",
       "199999  Heartland Farmer Jons Oatmeal Stout        7717          6516   \n",
       "\n",
       "        beer/ABV                    beer/style review/appearance review/aroma  \\\n",
       "0            5.4  India Pale Ale &#40;IPA&#41;               4/5         6/10   \n",
       "1            5.4  India Pale Ale &#40;IPA&#41;               4/5         6/10   \n",
       "2            5.0             Bohemian Pilsener               4/5         5/10   \n",
       "3            5.4                         Klsch               2/5         4/10   \n",
       "4            5.4                         Klsch               2/5         4/10   \n",
       "...          ...                           ...               ...          ...   \n",
       "199995       6.0                   Sweet Stout               4/5         7/10   \n",
       "199996       6.0                   Sweet Stout               4/5         6/10   \n",
       "199997       6.0                   Sweet Stout               4/5         5/10   \n",
       "199998       6.0                   Sweet Stout               5/5         9/10   \n",
       "199999       6.0                   Sweet Stout               4/5         8/10   \n",
       "\n",
       "       review/palate review/taste  review/overall review/time  \\\n",
       "0                3/5         6/10              13  1157587200   \n",
       "1                4/5         7/10              13  1157241600   \n",
       "2                3/5         6/10              14   958694400   \n",
       "3                2/5         4/10               8  1157587200   \n",
       "4                2/5         4/10               8  1157587200   \n",
       "...              ...          ...             ...         ...   \n",
       "199995           4/5         7/10              13  1122249600   \n",
       "199996           3/5         6/10              13  1117843200   \n",
       "199997           4/5         8/10              16  1117670400   \n",
       "199998           5/5        10/10              18  1117324800   \n",
       "199999           4/5         8/10              17  1117324800   \n",
       "\n",
       "       review/profileName                                        review/text  \n",
       "0                  hopdog  On tap at the Springfield, PA location. Poured...  \n",
       "1            TomDecapolis  On tap at the John Harvards in Springfield PA....  \n",
       "2          PhillyBeer2112  UPDATED: FEB 19, 2003 Springfield, PA. I've ne...  \n",
       "3            TomDecapolis  On tap the Springfield PA location billed as t...  \n",
       "4                  hopdog  On tap at the Springfield, PA location. Poured...  \n",
       "...                   ...                                                ...  \n",
       "199995       Jonathan3584  Black pour with a good tan head.  Aroma is hea...  \n",
       "199996         21iceman40  so i see this won an award or somethin. well i...  \n",
       "199997             Stew41  These guys ship out some pretty good beer and ...  \n",
       "199998          GirlyBeer  I had this at Hearland Brewery in NYC.  Great ...  \n",
       "199999      burgerlicious  a very nice stout.  the chocolate undertones w...  \n",
       "\n",
       "[200000 rows x 13 columns]"
      ]
     },
     "execution_count": 179,
     "metadata": {},
     "output_type": "execute_result"
    }
   ],
   "source": [
    "beers"
   ]
  },
  {
   "cell_type": "code",
   "execution_count": 14,
   "metadata": {},
   "outputs": [],
   "source": [
    "subsample = data[0:100]"
   ]
  },
  {
   "cell_type": "code",
   "execution_count": 4,
   "metadata": {},
   "outputs": [],
   "source": [
    "beers = pd.DataFrame(data[0:200000])"
   ]
  },
  {
   "cell_type": "code",
   "execution_count": 5,
   "metadata": {},
   "outputs": [
    {
     "data": {
      "text/plain": [
       "count     200000\n",
       "unique      8202\n",
       "top           53\n",
       "freq        3056\n",
       "Name: beer/beerId, dtype: object"
      ]
     },
     "execution_count": 5,
     "metadata": {},
     "output_type": "execute_result"
    }
   ],
   "source": [
    "beers['beer/beerId'].describe()"
   ]
  },
  {
   "cell_type": "code",
   "execution_count": 6,
   "metadata": {},
   "outputs": [],
   "source": [
    "beers['review/overall'] = beers['review/overall'].apply(lambda x: x[:-3])"
   ]
  },
  {
   "cell_type": "code",
   "execution_count": 21,
   "metadata": {},
   "outputs": [],
   "source": [
    "beers['review/overall'] = beers['review/overall'].astype(int)"
   ]
  },
  {
   "cell_type": "code",
   "execution_count": 116,
   "metadata": {},
   "outputs": [
    {
     "data": {
      "text/plain": [
       "count    200000.000000\n",
       "mean         13.506125\n",
       "std           2.941808\n",
       "min           1.000000\n",
       "25%          12.000000\n",
       "50%          14.000000\n",
       "75%          15.000000\n",
       "max          20.000000\n",
       "Name: review/overall, dtype: float64"
      ]
     },
     "execution_count": 116,
     "metadata": {},
     "output_type": "execute_result"
    }
   ],
   "source": [
    "beers['review/overall'].describe()"
   ]
  },
  {
   "cell_type": "code",
   "execution_count": 175,
   "metadata": {},
   "outputs": [],
   "source": [
    "brewery_grouped = beers[['beer/brewerId', 'review/overall']].groupby(['beer/brewerId']).agg('count')"
   ]
  },
  {
   "cell_type": "code",
   "execution_count": 173,
   "metadata": {},
   "outputs": [],
   "source": [
    "brewery_grouped = brewery_grouped.sort_values(by='review/overall')"
   ]
  },
  {
   "cell_type": "code",
   "execution_count": 26,
   "metadata": {},
   "outputs": [],
   "source": [
    "import seaborn as sns"
   ]
  },
  {
   "cell_type": "code",
   "execution_count": 72,
   "metadata": {},
   "outputs": [
    {
     "data": {
      "image/png": "[encoded data removed]",
      "text/plain": [
       "<Figure size 432x288 with 1 Axes>"
      ]
     },
     "metadata": {},
     "output_type": "display_data"
    }
   ],
   "source": [
    "sns.set_style(\"white\")\n",
    "sns.color_palette(\"rocket\")\n",
    "g1 = sns.lineplot(x=brewery_grouped.index, y=\"review/overall\", data = brewery_grouped, color='purple', sort=False)\n",
    "g1.set_title('Average Ratings by Brewery ID')\n",
    "g1.fill_between(brewery_grouped.index.values, brewery_grouped[\"review/overall\"].values, color='purple')\n",
    "g1.set(xticks=[])\n",
    "\n",
    "plt.show()"
   ]
  },
  {
   "cell_type": "code",
   "execution_count": 88,
   "metadata": {},
   "outputs": [],
   "source": [
    "brewery_grouped = brewery_grouped.sort_values(by='review/overall' ,ascending=False)[:10]"
   ]
  },
  {
   "cell_type": "code",
   "execution_count": 176,
   "metadata": {},
   "outputs": [
    {
     "data": {
      "text/plain": [
       "count      573.000000\n",
       "mean       349.040140\n",
       "std       1365.383359\n",
       "min          1.000000\n",
       "25%          9.000000\n",
       "50%         35.000000\n",
       "75%        156.000000\n",
       "max      21613.000000\n",
       "Name: review/overall, dtype: float64"
      ]
     },
     "execution_count": 176,
     "metadata": {},
     "output_type": "execute_result"
    }
   ],
   "source": [
    "brewery_grouped['review/overall'].describe()"
   ]
  },
  {
   "cell_type": "code",
   "execution_count": 105,
   "metadata": {},
   "outputs": [
    {
     "data": {
      "image/png": "[encoded data removed]",
      "text/plain": [
       "<Figure size 432x288 with 1 Axes>"
      ]
     },
     "metadata": {},
     "output_type": "display_data"
    }
   ],
   "source": [
    "sns.set_style(\"white\")\n",
    "sns.color_palette(\"viridis\")\n",
    "g3 = sns.barplot(x=brewery_grouped.index, y=\"review/overall\", data = brewery_grouped, order= brewery_grouped.index)\n",
    "g3.set_title('Top 10 Breweries')\n",
    "#g3.fill_between(brewery_grouped.index.values, brewery_grouped[\"review/overall\"].values, color='purple')\n",
    "#g2.set(xticks=[])\n",
    "#g2.set_xlim(1, 18)\n",
    "\n",
    "plt.show()"
   ]
  },
  {
   "cell_type": "code",
   "execution_count": 212,
   "metadata": {},
   "outputs": [
    {
     "data": {
      "text/plain": [
       "88393"
      ]
     },
     "execution_count": 212,
     "metadata": {},
     "output_type": "execute_result"
    }
   ],
   "source": [
    "top10_brew = brewery_grouped.sort_values('review/overall', ascending=False)[:10]\n",
    "\n",
    "top10_brew['review/overall'].sum()"
   ]
  },
  {
   "cell_type": "code",
   "execution_count": 215,
   "metadata": {},
   "outputs": [
    {
     "data": {
      "text/plain": [
       "review/overall    573\n",
       "dtype: int64"
      ]
     },
     "execution_count": 215,
     "metadata": {},
     "output_type": "execute_result"
    }
   ],
   "source": [
    "brewery_grouped.count()"
   ]
  },
  {
   "cell_type": "code",
   "execution_count": 110,
   "metadata": {},
   "outputs": [],
   "source": [
    "gbeers = beers[['beer/name', 'beer/beerId', 'review/overall']].groupby(['beer/beerId'])"
   ]
  },
  {
   "cell_type": "code",
   "execution_count": 119,
   "metadata": {},
   "outputs": [
    {
     "data": {
      "text/plain": [
       "24.384296513045598"
      ]
     },
     "execution_count": 119,
     "metadata": {},
     "output_type": "execute_result"
    }
   ],
   "source": [
    "gbeers.agg('count')['review/overall'].mean()"
   ]
  },
  {
   "cell_type": "code",
   "execution_count": 134,
   "metadata": {},
   "outputs": [],
   "source": [
    "beers.loc[beers[\"beer/ABV\"] == '-', 'beer/ABV'] = 0\n",
    "\n",
    "beers['beer/ABV'] = beers['beer/ABV'].astype(float)\n",
    "gbeers = beers[['beer/name', 'beer/beerId', 'beer/ABV']].groupby(['beer/beerId'])"
   ]
  },
  {
   "cell_type": "code",
   "execution_count": 138,
   "metadata": {},
   "outputs": [
    {
     "data": {
      "text/plain": [
       "count    8202.000000\n",
       "mean        4.544439\n",
       "std         3.036976\n",
       "min         0.000000\n",
       "25%         3.602500\n",
       "50%         5.000000\n",
       "75%         6.000000\n",
       "max        25.400000\n",
       "Name: beer/ABV, dtype: float64"
      ]
     },
     "execution_count": 138,
     "metadata": {},
     "output_type": "execute_result"
    }
   ],
   "source": [
    "gbeers.agg('first')['beer/ABV'].describe()"
   ]
  },
  {
   "cell_type": "code",
   "execution_count": 163,
   "metadata": {},
   "outputs": [],
   "source": [
    "beers_g = beers[['beer/beerId', 'review/overall', 'beer/ABV']].groupby(['beer/beerId']).agg('mean').sort_values('beer/ABV')"
   ]
  },
  {
   "cell_type": "code",
   "execution_count": 164,
   "metadata": {},
   "outputs": [
    {
     "data": {
      "text/html": [
       "<div>\n",
       "<style scoped>\n",
       "    .dataframe tbody tr th:only-of-type {\n",
       "        vertical-align: middle;\n",
       "    }\n",
       "\n",
       "    .dataframe tbody tr th {\n",
       "        vertical-align: top;\n",
       "    }\n",
       "\n",
       "    .dataframe thead th {\n",
       "        text-align: right;\n",
       "    }\n",
       "</style>\n",
       "<table border=\"1\" class=\"dataframe\">\n",
       "  <thead>\n",
       "    <tr style=\"text-align: right;\">\n",
       "      <th></th>\n",
       "      <th>review/overall</th>\n",
       "      <th>beer/ABV</th>\n",
       "    </tr>\n",
       "    <tr>\n",
       "      <th>beer/beerId</th>\n",
       "      <th></th>\n",
       "      <th></th>\n",
       "    </tr>\n",
       "  </thead>\n",
       "  <tbody>\n",
       "    <tr>\n",
       "      <th>120453</th>\n",
       "      <td>11.000000</td>\n",
       "      <td>0.0</td>\n",
       "    </tr>\n",
       "    <tr>\n",
       "      <th>72476</th>\n",
       "      <td>14.076923</td>\n",
       "      <td>0.0</td>\n",
       "    </tr>\n",
       "    <tr>\n",
       "      <th>72488</th>\n",
       "      <td>13.774194</td>\n",
       "      <td>0.0</td>\n",
       "    </tr>\n",
       "    <tr>\n",
       "      <th>72525</th>\n",
       "      <td>13.000000</td>\n",
       "      <td>0.0</td>\n",
       "    </tr>\n",
       "    <tr>\n",
       "      <th>72546</th>\n",
       "      <td>13.400000</td>\n",
       "      <td>0.0</td>\n",
       "    </tr>\n",
       "    <tr>\n",
       "      <th>...</th>\n",
       "      <td>...</td>\n",
       "      <td>...</td>\n",
       "    </tr>\n",
       "    <tr>\n",
       "      <th>40446</th>\n",
       "      <td>16.000000</td>\n",
       "      <td>20.0</td>\n",
       "    </tr>\n",
       "    <tr>\n",
       "      <th>78473</th>\n",
       "      <td>16.384615</td>\n",
       "      <td>21.0</td>\n",
       "    </tr>\n",
       "    <tr>\n",
       "      <th>129766</th>\n",
       "      <td>15.181818</td>\n",
       "      <td>22.0</td>\n",
       "    </tr>\n",
       "    <tr>\n",
       "      <th>147738</th>\n",
       "      <td>17.500000</td>\n",
       "      <td>22.9</td>\n",
       "    </tr>\n",
       "    <tr>\n",
       "      <th>65578</th>\n",
       "      <td>9.500000</td>\n",
       "      <td>25.4</td>\n",
       "    </tr>\n",
       "  </tbody>\n",
       "</table>\n",
       "<p>8202 rows × 2 columns</p>\n",
       "</div>"
      ],
      "text/plain": [
       "             review/overall  beer/ABV\n",
       "beer/beerId                          \n",
       "120453            11.000000       0.0\n",
       "72476             14.076923       0.0\n",
       "72488             13.774194       0.0\n",
       "72525             13.000000       0.0\n",
       "72546             13.400000       0.0\n",
       "...                     ...       ...\n",
       "40446             16.000000      20.0\n",
       "78473             16.384615      21.0\n",
       "129766            15.181818      22.0\n",
       "147738            17.500000      22.9\n",
       "65578              9.500000      25.4\n",
       "\n",
       "[8202 rows x 2 columns]"
      ]
     },
     "execution_count": 164,
     "metadata": {},
     "output_type": "execute_result"
    }
   ],
   "source": [
    "beers_g"
   ]
  },
  {
   "cell_type": "code",
   "execution_count": 169,
   "metadata": {},
   "outputs": [
    {
     "data": {
      "image/png": "[encoded data removed]",
      "text/plain": [
       "<Figure size 432x288 with 1 Axes>"
      ]
     },
     "metadata": {},
     "output_type": "display_data"
    }
   ],
   "source": [
    "sns.set_style(\"white\")\n",
    "#sns.color_palette(\"rocket\")\n",
    "g4 = sns.lineplot(x='beer/ABV', y=\"review/overall\", data = beers_g, color='purple', sort=False)\n",
    "g4.set_title('Average Ratings by ABV of Beer')\n",
    "#g4.fill_between(beers_g[\"beer/ABV\"].values, beers_g[\"review/overall\"].values, color='purple')\n",
    "g4.set(xticks=[0, 25.4])\n",
    "g4.set(yticks=[1.00, 20.00])\n",
    "\n",
    "\n",
    "plt.show()"
   ]
  },
  {
   "cell_type": "code",
   "execution_count": 170,
   "metadata": {},
   "outputs": [
    {
     "data": {
      "text/html": [
       "<div>\n",
       "<style scoped>\n",
       "    .dataframe tbody tr th:only-of-type {\n",
       "        vertical-align: middle;\n",
       "    }\n",
       "\n",
       "    .dataframe tbody tr th {\n",
       "        vertical-align: top;\n",
       "    }\n",
       "\n",
       "    .dataframe thead th {\n",
       "        text-align: right;\n",
       "    }\n",
       "</style>\n",
       "<table border=\"1\" class=\"dataframe\">\n",
       "  <thead>\n",
       "    <tr style=\"text-align: right;\">\n",
       "      <th></th>\n",
       "      <th>beer/ABV</th>\n",
       "      <th>review/overall</th>\n",
       "    </tr>\n",
       "  </thead>\n",
       "  <tbody>\n",
       "    <tr>\n",
       "      <th>beer/ABV</th>\n",
       "      <td>1.000000</td>\n",
       "      <td>0.361157</td>\n",
       "    </tr>\n",
       "    <tr>\n",
       "      <th>review/overall</th>\n",
       "      <td>0.361157</td>\n",
       "      <td>1.000000</td>\n",
       "    </tr>\n",
       "  </tbody>\n",
       "</table>\n",
       "</div>"
      ],
      "text/plain": [
       "                beer/ABV  review/overall\n",
       "beer/ABV        1.000000        0.361157\n",
       "review/overall  0.361157        1.000000"
      ]
     },
     "execution_count": 170,
     "metadata": {},
     "output_type": "execute_result"
    }
   ],
   "source": [
    "beers.corr()"
   ]
  },
  {
   "cell_type": "markdown",
   "metadata": {},
   "source": [
    "### Beer Analysis"
   ]
  },
  {
   "cell_type": "code",
   "execution_count": 180,
   "metadata": {},
   "outputs": [],
   "source": [
    "beers_g = beers[['beer/beerId', 'review/overall']].groupby(['beer/beerId']).agg('count')"
   ]
  },
  {
   "cell_type": "code",
   "execution_count": 182,
   "metadata": {},
   "outputs": [
    {
     "data": {
      "text/html": [
       "<div>\n",
       "<style scoped>\n",
       "    .dataframe tbody tr th:only-of-type {\n",
       "        vertical-align: middle;\n",
       "    }\n",
       "\n",
       "    .dataframe tbody tr th {\n",
       "        vertical-align: top;\n",
       "    }\n",
       "\n",
       "    .dataframe thead th {\n",
       "        text-align: right;\n",
       "    }\n",
       "</style>\n",
       "<table border=\"1\" class=\"dataframe\">\n",
       "  <thead>\n",
       "    <tr style=\"text-align: right;\">\n",
       "      <th></th>\n",
       "      <th>review/overall</th>\n",
       "    </tr>\n",
       "  </thead>\n",
       "  <tbody>\n",
       "    <tr>\n",
       "      <th>count</th>\n",
       "      <td>8202.000000</td>\n",
       "    </tr>\n",
       "    <tr>\n",
       "      <th>mean</th>\n",
       "      <td>24.384297</td>\n",
       "    </tr>\n",
       "    <tr>\n",
       "      <th>std</th>\n",
       "      <td>101.356756</td>\n",
       "    </tr>\n",
       "    <tr>\n",
       "      <th>min</th>\n",
       "      <td>1.000000</td>\n",
       "    </tr>\n",
       "    <tr>\n",
       "      <th>25%</th>\n",
       "      <td>2.000000</td>\n",
       "    </tr>\n",
       "    <tr>\n",
       "      <th>50%</th>\n",
       "      <td>4.000000</td>\n",
       "    </tr>\n",
       "    <tr>\n",
       "      <th>75%</th>\n",
       "      <td>12.000000</td>\n",
       "    </tr>\n",
       "    <tr>\n",
       "      <th>max</th>\n",
       "      <td>3056.000000</td>\n",
       "    </tr>\n",
       "  </tbody>\n",
       "</table>\n",
       "</div>"
      ],
      "text/plain": [
       "       review/overall\n",
       "count     8202.000000\n",
       "mean        24.384297\n",
       "std        101.356756\n",
       "min          1.000000\n",
       "25%          2.000000\n",
       "50%          4.000000\n",
       "75%         12.000000\n",
       "max       3056.000000"
      ]
     },
     "execution_count": 182,
     "metadata": {},
     "output_type": "execute_result"
    }
   ],
   "source": [
    "beers_g.describe()"
   ]
  },
  {
   "cell_type": "code",
   "execution_count": 191,
   "metadata": {},
   "outputs": [
    {
     "data": {
      "text/html": [
       "<div>\n",
       "<style scoped>\n",
       "    .dataframe tbody tr th:only-of-type {\n",
       "        vertical-align: middle;\n",
       "    }\n",
       "\n",
       "    .dataframe tbody tr th {\n",
       "        vertical-align: top;\n",
       "    }\n",
       "\n",
       "    .dataframe thead th {\n",
       "        text-align: right;\n",
       "    }\n",
       "</style>\n",
       "<table border=\"1\" class=\"dataframe\">\n",
       "  <thead>\n",
       "    <tr style=\"text-align: right;\">\n",
       "      <th></th>\n",
       "      <th>review/overall</th>\n",
       "    </tr>\n",
       "    <tr>\n",
       "      <th>beer/beerId</th>\n",
       "      <th></th>\n",
       "    </tr>\n",
       "  </thead>\n",
       "  <tbody>\n",
       "    <tr>\n",
       "      <th>100001</th>\n",
       "      <td>12.250000</td>\n",
       "    </tr>\n",
       "    <tr>\n",
       "      <th>100020</th>\n",
       "      <td>15.250000</td>\n",
       "    </tr>\n",
       "    <tr>\n",
       "      <th>100032</th>\n",
       "      <td>6.142857</td>\n",
       "    </tr>\n",
       "    <tr>\n",
       "      <th>100047</th>\n",
       "      <td>14.485714</td>\n",
       "    </tr>\n",
       "    <tr>\n",
       "      <th>100079</th>\n",
       "      <td>15.000000</td>\n",
       "    </tr>\n",
       "    <tr>\n",
       "      <th>...</th>\n",
       "      <td>...</td>\n",
       "    </tr>\n",
       "    <tr>\n",
       "      <th>99911</th>\n",
       "      <td>12.307692</td>\n",
       "    </tr>\n",
       "    <tr>\n",
       "      <th>99952</th>\n",
       "      <td>15.000000</td>\n",
       "    </tr>\n",
       "    <tr>\n",
       "      <th>9999</th>\n",
       "      <td>9.957265</td>\n",
       "    </tr>\n",
       "    <tr>\n",
       "      <th>99997</th>\n",
       "      <td>10.222222</td>\n",
       "    </tr>\n",
       "    <tr>\n",
       "      <th>la-saint-pierre-blonde-de-l`oncle-hansi-91690</th>\n",
       "      <td>11.333333</td>\n",
       "    </tr>\n",
       "  </tbody>\n",
       "</table>\n",
       "<p>8202 rows × 1 columns</p>\n",
       "</div>"
      ],
      "text/plain": [
       "                                               review/overall\n",
       "beer/beerId                                                  \n",
       "100001                                              12.250000\n",
       "100020                                              15.250000\n",
       "100032                                               6.142857\n",
       "100047                                              14.485714\n",
       "100079                                              15.000000\n",
       "...                                                       ...\n",
       "99911                                               12.307692\n",
       "99952                                               15.000000\n",
       "9999                                                 9.957265\n",
       "99997                                               10.222222\n",
       "la-saint-pierre-blonde-de-l`oncle-hansi-91690       11.333333\n",
       "\n",
       "[8202 rows x 1 columns]"
      ]
     },
     "execution_count": 191,
     "metadata": {},
     "output_type": "execute_result"
    }
   ],
   "source": [
    "beers_g2 = beers[['beer/beerId', 'review/overall', 'beer/name']].groupby(['beer/beerId']).agg('mean')\n",
    "beers_g2"
   ]
  },
  {
   "cell_type": "code",
   "execution_count": 189,
   "metadata": {},
   "outputs": [],
   "source": [
    "beers_g2 = beers_g2.sort_values(by='review/overall' ,ascending=False)[:10]"
   ]
  },
  {
   "cell_type": "code",
   "execution_count": 196,
   "metadata": {},
   "outputs": [
    {
     "data": {
      "text/html": [
       "<div>\n",
       "<style scoped>\n",
       "    .dataframe tbody tr th:only-of-type {\n",
       "        vertical-align: middle;\n",
       "    }\n",
       "\n",
       "    .dataframe tbody tr th {\n",
       "        vertical-align: top;\n",
       "    }\n",
       "\n",
       "    .dataframe thead th {\n",
       "        text-align: right;\n",
       "    }\n",
       "</style>\n",
       "<table border=\"1\" class=\"dataframe\">\n",
       "  <thead>\n",
       "    <tr style=\"text-align: right;\">\n",
       "      <th></th>\n",
       "      <th>review/overall</th>\n",
       "    </tr>\n",
       "    <tr>\n",
       "      <th>beer/beerId</th>\n",
       "      <th></th>\n",
       "    </tr>\n",
       "  </thead>\n",
       "  <tbody>\n",
       "    <tr>\n",
       "      <th>100001</th>\n",
       "      <td>12.250000</td>\n",
       "    </tr>\n",
       "    <tr>\n",
       "      <th>100020</th>\n",
       "      <td>15.250000</td>\n",
       "    </tr>\n",
       "    <tr>\n",
       "      <th>100032</th>\n",
       "      <td>6.142857</td>\n",
       "    </tr>\n",
       "    <tr>\n",
       "      <th>100047</th>\n",
       "      <td>14.485714</td>\n",
       "    </tr>\n",
       "    <tr>\n",
       "      <th>100079</th>\n",
       "      <td>15.000000</td>\n",
       "    </tr>\n",
       "    <tr>\n",
       "      <th>...</th>\n",
       "      <td>...</td>\n",
       "    </tr>\n",
       "    <tr>\n",
       "      <th>99911</th>\n",
       "      <td>12.307692</td>\n",
       "    </tr>\n",
       "    <tr>\n",
       "      <th>99952</th>\n",
       "      <td>15.000000</td>\n",
       "    </tr>\n",
       "    <tr>\n",
       "      <th>9999</th>\n",
       "      <td>9.957265</td>\n",
       "    </tr>\n",
       "    <tr>\n",
       "      <th>99997</th>\n",
       "      <td>10.222222</td>\n",
       "    </tr>\n",
       "    <tr>\n",
       "      <th>la-saint-pierre-blonde-de-l`oncle-hansi-91690</th>\n",
       "      <td>11.333333</td>\n",
       "    </tr>\n",
       "  </tbody>\n",
       "</table>\n",
       "<p>8202 rows × 1 columns</p>\n",
       "</div>"
      ],
      "text/plain": [
       "                                               review/overall\n",
       "beer/beerId                                                  \n",
       "100001                                              12.250000\n",
       "100020                                              15.250000\n",
       "100032                                               6.142857\n",
       "100047                                              14.485714\n",
       "100079                                              15.000000\n",
       "...                                                       ...\n",
       "99911                                               12.307692\n",
       "99952                                               15.000000\n",
       "9999                                                 9.957265\n",
       "99997                                               10.222222\n",
       "la-saint-pierre-blonde-de-l`oncle-hansi-91690       11.333333\n",
       "\n",
       "[8202 rows x 1 columns]"
      ]
     },
     "execution_count": 196,
     "metadata": {},
     "output_type": "execute_result"
    }
   ],
   "source": [
    "beers_g2\n",
    "#pd.concat([beers_g2, beers[['beer/beerId', 'beer/name']]], axis=0)"
   ]
  },
  {
   "cell_type": "code",
   "execution_count": null,
   "metadata": {},
   "outputs": [],
   "source": []
  },
  {
   "cell_type": "code",
   "execution_count": 217,
   "metadata": {},
   "outputs": [],
   "source": [
    "#sns.set_style(\"white\")\n",
    "#sns.color_palette(\"viridis\")\n",
    "#g5 = sns.barplot(x=beers_g2.index, y=\"review/overall\", data = beers_g2, order= beers_g2.index)\n",
    "#g5.set_title('Top 10 Beers')\n",
    "\n",
    "#plt.show()"
   ]
  },
  {
   "cell_type": "markdown",
   "metadata": {},
   "source": [
    "### Review Analysis"
   ]
  },
  {
   "cell_type": "code",
   "execution_count": 219,
   "metadata": {},
   "outputs": [],
   "source": [
    "beers['review/appearance'] = beers['review/appearance'].apply(lambda x: x[:-2]).astype(float)\n",
    "beers['review/aroma'] = beers['review/aroma'].apply(lambda x: x[:-3]).astype(float)\n",
    "beers['review/palate'] = beers['review/palate'].apply(lambda x: x[:-2]).astype(float)\n",
    "beers['review/overall'] = beers['review/overall'].astype(float)\n"
   ]
  },
  {
   "cell_type": "code",
   "execution_count": 221,
   "metadata": {},
   "outputs": [],
   "source": [
    "beers['review/taste'] = beers['review/taste'].apply(lambda x: x[:-3]).astype(float)"
   ]
  },
  {
   "cell_type": "code",
   "execution_count": 223,
   "metadata": {},
   "outputs": [],
   "source": [
    "review_corr = beers[['review/appearance', 'review/aroma', 'review/palate', 'review/taste', 'review/overall']]"
   ]
  },
  {
   "cell_type": "code",
   "execution_count": 225,
   "metadata": {},
   "outputs": [
    {
     "data": {
      "text/html": [
       "<div>\n",
       "<style scoped>\n",
       "    .dataframe tbody tr th:only-of-type {\n",
       "        vertical-align: middle;\n",
       "    }\n",
       "\n",
       "    .dataframe tbody tr th {\n",
       "        vertical-align: top;\n",
       "    }\n",
       "\n",
       "    .dataframe thead th {\n",
       "        text-align: right;\n",
       "    }\n",
       "</style>\n",
       "<table border=\"1\" class=\"dataframe\">\n",
       "  <thead>\n",
       "    <tr style=\"text-align: right;\">\n",
       "      <th></th>\n",
       "      <th>review/appearance</th>\n",
       "      <th>review/aroma</th>\n",
       "      <th>review/palate</th>\n",
       "      <th>review/taste</th>\n",
       "      <th>review/overall</th>\n",
       "    </tr>\n",
       "  </thead>\n",
       "  <tbody>\n",
       "    <tr>\n",
       "      <th>review/appearance</th>\n",
       "      <td>1.000000</td>\n",
       "      <td>0.460738</td>\n",
       "      <td>0.512506</td>\n",
       "      <td>0.477615</td>\n",
       "      <td>0.499224</td>\n",
       "    </tr>\n",
       "    <tr>\n",
       "      <th>review/aroma</th>\n",
       "      <td>0.460738</td>\n",
       "      <td>1.000000</td>\n",
       "      <td>0.529642</td>\n",
       "      <td>0.746162</td>\n",
       "      <td>0.739241</td>\n",
       "    </tr>\n",
       "    <tr>\n",
       "      <th>review/palate</th>\n",
       "      <td>0.512506</td>\n",
       "      <td>0.529642</td>\n",
       "      <td>1.000000</td>\n",
       "      <td>0.644613</td>\n",
       "      <td>0.654019</td>\n",
       "    </tr>\n",
       "    <tr>\n",
       "      <th>review/taste</th>\n",
       "      <td>0.477615</td>\n",
       "      <td>0.746162</td>\n",
       "      <td>0.644613</td>\n",
       "      <td>1.000000</td>\n",
       "      <td>0.848397</td>\n",
       "    </tr>\n",
       "    <tr>\n",
       "      <th>review/overall</th>\n",
       "      <td>0.499224</td>\n",
       "      <td>0.739241</td>\n",
       "      <td>0.654019</td>\n",
       "      <td>0.848397</td>\n",
       "      <td>1.000000</td>\n",
       "    </tr>\n",
       "  </tbody>\n",
       "</table>\n",
       "</div>"
      ],
      "text/plain": [
       "                   review/appearance  review/aroma  review/palate  \\\n",
       "review/appearance           1.000000      0.460738       0.512506   \n",
       "review/aroma                0.460738      1.000000       0.529642   \n",
       "review/palate               0.512506      0.529642       1.000000   \n",
       "review/taste                0.477615      0.746162       0.644613   \n",
       "review/overall              0.499224      0.739241       0.654019   \n",
       "\n",
       "                   review/taste  review/overall  \n",
       "review/appearance      0.477615        0.499224  \n",
       "review/aroma           0.746162        0.739241  \n",
       "review/palate          0.644613        0.654019  \n",
       "review/taste           1.000000        0.848397  \n",
       "review/overall         0.848397        1.000000  "
      ]
     },
     "execution_count": 225,
     "metadata": {},
     "output_type": "execute_result"
    }
   ],
   "source": [
    "review_corr.corr()"
   ]
  },
  {
   "cell_type": "code",
   "execution_count": 229,
   "metadata": {},
   "outputs": [],
   "source": [
    "review_corr = review_corr.rename(columns = {'review/appearance':'appearance',\n",
    "                                            'review/aroma': 'aroma',\n",
    "                                            'review/palate': 'palate',\n",
    "                                            'review/taste': 'taste',\n",
    "                                            'review/overall': 'overall'}\n",
    "                                )"
   ]
  },
  {
   "cell_type": "code",
   "execution_count": 232,
   "metadata": {},
   "outputs": [
    {
     "data": {
      "image/png": "[encoded data removed]",
      "text/plain": [
       "<Figure size 432x288 with 2 Axes>"
      ]
     },
     "metadata": {},
     "output_type": "display_data"
    }
   ],
   "source": [
    "corr_plot = sns.heatmap(review_corr.corr(), vmin=0, vmax=1, annot=True)\n",
    "\n",
    "corr_plot.set_title('Correlation Matrix of Ratings')\n",
    "plt.show()"
   ]
  },
  {
   "cell_type": "code",
   "execution_count": null,
   "metadata": {},
   "outputs": [],
   "source": []
  }
 ],
 "metadata": {
  "kernelspec": {
   "display_name": "Python 3",
   "language": "python",
   "name": "python3"
  },
  "language_info": {
   "codemirror_mode": {
    "name": "ipython",
    "version": 3
   },
   "file_extension": ".py",
   "mimetype": "text/x-python",
   "name": "python",
   "nbconvert_exporter": "python",
   "pygments_lexer": "ipython3",
   "version": "3.8.3"
  }
 },
 "nbformat": 4,
 "nbformat_minor": 4
}
